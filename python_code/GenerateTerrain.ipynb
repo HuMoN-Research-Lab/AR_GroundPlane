{
 "cells": [
  {
   "cell_type": "markdown",
   "metadata": {},
   "source": [
    "## Generate Terrain for the Augmented Reality Ground Plane \n",
    "### 2022-06-01\n",
    "\n",
    "__The intention of this script is to create a parameterizeable terrain generator for the Augmented Reality Ground Plane (ARGP) built by Trent Wirth at Northeastern University.__\n",
    "\n",
    "The script will take in the sizes of each segment of the three different projectors, and then information regarding the \"terrain objects\", or the targets and obstacles that make up the terrain, that will fill that space."
   ]
  },
  {
   "cell_type": "code",
   "execution_count": 23,
   "metadata": {},
   "outputs": [],
   "source": [
    "# imports list\n",
    "\n",
    "import numpy as np\n",
    "from matplotlib import pyplot as plt"
   ]
  },
  {
   "cell_type": "code",
   "execution_count": 20,
   "metadata": {},
   "outputs": [
    {
     "data": {
      "text/plain": [
       "(array([[-1.16,  0.55],\n",
       "        [ 0.1 ,  0.55],\n",
       "        [ 1.36,  0.55],\n",
       "        [ 1.36, -0.55],\n",
       "        [ 0.1 , -0.55],\n",
       "        [-1.16, -0.55]]),\n",
       " array([[-1.3 ,  0.55],\n",
       "        [ 0.  ,  0.55],\n",
       "        [ 1.3 ,  0.55],\n",
       "        [ 1.3 , -0.55],\n",
       "        [ 0.  , -0.55],\n",
       "        [-1.3 , -0.55]]),\n",
       " array([[-1.36,  0.55],\n",
       "        [-0.1 ,  0.55],\n",
       "        [ 1.16,  0.55],\n",
       "        [ 1.16, -0.55],\n",
       "        [-0.1 , -0.55],\n",
       "        [-1.36, -0.55]]))"
      ]
     },
     "execution_count": 20,
     "metadata": {},
     "output_type": "execute_result"
    }
   ],
   "source": [
    "# Establish the sizes of the projector segments\n",
    "\n",
    "## Projector 1\n",
    "\n",
    "projector_1_center_list_xy = np.array([[-1.16,0.55] , [0.1,0.55] , [1.36,0.55] , [1.36,-0.55] , [0.1,-0.55] , [-1.16,-0.55]])\n",
    "\n",
    "projector_1_center_list_xy\n",
    "\n",
    "## Projector 2\n",
    "\n",
    "projector_2_center_list_xy = np.array([[-1.3,0.55] , [0,0.55] , [1.3,0.55] , [1.3,-0.55] , [0,-0.55] , [-1.3,-0.55]])\n",
    "\n",
    "## Projector 3\n",
    "\n",
    "projector_3_center_list_xy = np.array([[-1.36,0.55] , [-0.1,0.55] , [1.16,0.55] , [1.16,-0.55] , [-0.1,-0.55] , [-1.36,-0.55]])\n",
    "\n",
    "# quickly look to make sure everything is correct\n",
    "projector_1_center_list_xy, projector_2_center_list_xy, projector_3_center_list_xy"
   ]
  },
  {
   "cell_type": "code",
   "execution_count": 35,
   "metadata": {},
   "outputs": [
    {
     "data": {
      "text/plain": [
       "array([ 0.55,  0.55,  0.55, -0.55, -0.55, -0.55])"
      ]
     },
     "execution_count": 35,
     "metadata": {},
     "output_type": "execute_result"
    }
   ],
   "source": [
    "# this is me testing how indexing works in python :D\n",
    "projector_1_center_list_xy[2][0]-projector_1_center_list_xy[1][0]\n",
    "\n",
    "projector_1_center_list_xy[:,1]"
   ]
  },
  {
   "cell_type": "code",
   "execution_count": 47,
   "metadata": {},
   "outputs": [],
   "source": [
    "all_projector_centers_xy = np.concatenate((projector_1_center_list_xy,projector_2_center_list_xy,projector_3_center_list_xy))"
   ]
  },
  {
   "cell_type": "code",
   "execution_count": 48,
   "metadata": {},
   "outputs": [
    {
     "data": {
      "text/plain": [
       "[<matplotlib.lines.Line2D at 0x7fa5fc466850>]"
      ]
     },
     "execution_count": 48,
     "metadata": {},
     "output_type": "execute_result"
    },
    {
     "data": {
      "image/png": "[encoded data removed]",
      "text/plain": [
       "<Figure size 432x288 with 1 Axes>"
      ]
     },
     "metadata": {
      "needs_background": "light"
     },
     "output_type": "display_data"
    }
   ],
   "source": [
    "# visualize it\n",
    "plt.plot(projector_1_center_list_xy[:,0],projector_1_center_list_xy[:,1], \"ob\")\n",
    "plt.plot(projector_2_center_list_xy[:,0],projector_2_center_list_xy[:,1], \"or\")\n",
    "plt.plot(projector_3_center_list_xy[:,0],projector_3_center_list_xy[:,1], \"og\")"
   ]
  },
  {
   "cell_type": "code",
   "execution_count": 53,
   "metadata": {},
   "outputs": [],
   "source": [
    "# the height and width of each segment in the projectors:\n",
    "\n",
    "all_projector_segments_height_width = np.array([1.16,0.96]) \n",
    "\n",
    "# Note: in the matlab version of this code, the sizes of the the first index of P1 and P3 were 1.126, rather than 1.16\n",
    "#       I should look at the calculations I made by hand to check why there was a slight difference"
   ]
  },
  {
   "cell_type": "code",
   "execution_count": null,
   "metadata": {},
   "outputs": [],
   "source": [
    "# write function that generates terrain per segment...\n"
   ]
  }
 ],
 "metadata": {
  "interpreter": {
   "hash": "0fd4b039a1358cd26f30194d67259ee9d1502d3309990f61a16b602224ae6b14"
  },
  "kernelspec": {
   "display_name": "Python 3.8.5 ('base')",
   "language": "python",
   "name": "python3"
  },
  "language_info": {
   "codemirror_mode": {
    "name": "ipython",
    "version": 3
   },
   "file_extension": ".py",
   "mimetype": "text/x-python",
   "name": "python",
   "nbconvert_exporter": "python",
   "pygments_lexer": "ipython3",
   "version": "3.8.5"
  },
  "orig_nbformat": 4
 },
 "nbformat": 4,
 "nbformat_minor": 2
}
